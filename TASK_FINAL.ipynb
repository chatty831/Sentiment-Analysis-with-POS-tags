{
 "cells": [
  {
   "cell_type": "markdown",
   "metadata": {},
   "source": [
    "# Import the necessary Modules and Methods"
   ]
  },
  {
   "cell_type": "code",
   "execution_count": 576,
   "metadata": {},
   "outputs": [],
   "source": [
    "\n",
    "import pandas as pd\n",
    "import string\n",
    "import random\n",
    "import numpy as np\n",
    "import nltk\n",
    "from nltk.stem import WordNetLemmatizer\n",
    "from nltk.corpus import movie_reviews\n",
    "from nltk.corpus import stopwords\n",
    "from sklearn.metrics import classification_report\n",
    "\n",
    "pd.set_option('display.max_colwidth', None)"
   ]
  },
  {
   "cell_type": "markdown",
   "metadata": {},
   "source": [
    "# Reading the Data"
   ]
  },
  {
   "cell_type": "code",
   "execution_count": 577,
   "metadata": {},
   "outputs": [],
   "source": [
    "all_tagged_movie_reviews = [(list(movie_reviews.words(fileid)), category) for category in movie_reviews.categories() for fileid in movie_reviews.fileids(category)]\n",
    "# print(all_tagged_movie_reviews[:2])\n",
    "cols = ['Review', 'Sentiment']\n",
    "df = pd.DataFrame(all_tagged_movie_reviews, columns=cols)"
   ]
  },
  {
   "cell_type": "markdown",
   "metadata": {},
   "source": [
    "# Cleaning The Data & Removing Irrelevant Words"
   ]
  },
  {
   "cell_type": "code",
   "execution_count": 578,
   "metadata": {},
   "outputs": [],
   "source": [
    "lemmatizer = WordNetLemmatizer()\n",
    "\n",
    "def clean_sentence(sentence):\n",
    "    \n",
    "    for word in sentence:\n",
    "        word = word.lower()  # Case folding\n",
    "    \n",
    "    # # Remove numbers\n",
    "    tokens = sentence\n",
    "    stop_words = set(stopwords.words('english'))\n",
    "    stop_words.add('\\\\n')\n",
    "    tokens = [token for token in tokens if token not in string.punctuation]  # Removing irrelevant punctuation\n",
    "    tokens = [word for word in tokens if word not in stop_words]  # Removing irrelelvant stopwords\n",
    "    tokens = [lemmatizer.lemmatize(token) for token in tokens]  # Lemmatizing the words i.e changing the words to  their base form\n",
    "    x = ' '.join(tokens)\n",
    "    x.replace(\" '\", \"'\")\n",
    "    return x\n",
    "\n",
    "df['Review'] = df['Review'].apply(clean_sentence)\n"
   ]
  },
  {
   "cell_type": "markdown",
   "metadata": {},
   "source": [
    "Getting Some Basic Information About the Dataset"
   ]
  },
  {
   "cell_type": "code",
   "execution_count": 579,
   "metadata": {},
   "outputs": [
    {
     "name": "stdout",
     "output_type": "stream",
     "text": [
      "Average number of words in each review: 2441\n",
      "The number of positive reviews 1000\n",
      "The number of negative reviews 1000\n"
     ]
    }
   ],
   "source": [
    "print('Average number of words in each review:',int(np.mean(df['Review'].str.len().tolist())))\n",
    "print('The number of positive reviews', df['Sentiment'].value_counts().to_list()[0])\n",
    "print('The number of negative reviews', df['Sentiment'].value_counts().to_list()[1])"
   ]
  },
  {
   "cell_type": "markdown",
   "metadata": {},
   "source": [
    "# Splitting the Data in Test and Training"
   ]
  },
  {
   "cell_type": "code",
   "execution_count": 580,
   "metadata": {},
   "outputs": [],
   "source": [
    "from sklearn.feature_extraction.text import TfidfVectorizer\n",
    "from sklearn.model_selection import train_test_split\n",
    "\n",
    "train_sents, test_sents = train_test_split(df['Review'],test_size=0.1,random_state=42)  # They are pd Series right now\n",
    "train_rev , test_rev = train_test_split(df['Sentiment'],test_size=0.1,random_state=42)"
   ]
  },
  {
   "cell_type": "code",
   "execution_count": 581,
   "metadata": {},
   "outputs": [
    {
     "data": {
      "text/plain": [
       "['robert redford good playing character incredible god given gift able act like ordinary people natural 1984 played fallen angelic character roy hobbs baseball player destined best ever still acted like humble farm boy butch cassidy sundance kid 1969 dangerous shot west yet came like nothing boyishly good looking charmer even indecent proposal 1993 played man good making money believed could buy love redford still able exude aura shy decency especially reciting tale lost love latest film horse whisperer based best selling novel nicholas evans redford play character redford also directed film although swore would never direct movie suppose character tom booker man amazing gift understanding somehow communicating horse good pas despite enormous rare gift come training troubled horse magazine article coin phrase horse whisperer describe uncanny talent booker see everyday cattle rancher whose greatest fear growing old longer purpose life booker talent taxed service annie maclean kristin scott thomas new york magazine editor whose daughter grace scarlett johansson recently horrible accident accident filmed gut wrenching horror happens grace best friend riding horse eighteen wheeler kill grace friend severely wound traumatizes grace horse pilgrim cause grace lose part right leg annie belief pilgrim healed grace healed well lead booker first try get booker come new york see horse work instead pack grace pilgrim leaf husband robert sam neill behind head rolling hill montana booker run ranch brother frank chris cooper sister law diane dianne wiest many way film like journey literally symbolically move west always great american tradition renewal hard see annie grace leaving manhattan montana variation classic theme city v country horse whisperer country clearly victor city characterized claustrophobia unhappiness character arrive wide open space montana grace anger physically emotionally crippled begin dissipate annie controlling nature begin relax pilgrim learns trust people redford love grand montana country film directed river run six year ago many way horse whisperer come poetic vein river movie could probably good fifteen minute shorter redford decided spend le camera time grass mountain would ruin magic much film photography truly elegant creates palpable sense sheer expansiveness land emphasize redford cinematographer robert richardson natural born killer platoon cheated bit shooting beginning film take place new york mostly cold harsh bluish filter squarish 1 85 1 aspect ratio action shift montana richardson switch soft focus natural lighting screen widens 2 35 1 aspect ratio term story horse whisperer give u romanticized view adultery found david lean brief encounter 1945 clint eastwood 1995 adaptation robert james waller bridge madison county richard lagravenese co screenwriter also adapted bridge although horse whisperer strong romantic sensibility still find something oddly troubling kind story seems sympathy husband left behind brief heart sweeping affair rarely horse whisperer thankless role fuddy duddy husband fall sam neill play character decent hard working man good husband father failure love wife love risk losing annie booker anything drive away simply happens normal fairly uninspiring man one scene particularly telling movie feel character show booker robert going horse pen booker dressed like classic cowboy hat robert look somewhat frumpy place baseball cap enter pen booker assuredly swing fence robert hesitates open gate goofy moment forgets close behind small scene clearly demonstrates movie thorough love booker character romantic roughness booker represents everything good city robert represents everything banal unnatural best scene horse whisperer tend involve building romance booker annie rather healing process grace horse although booker horse training method mythical unrealistic scene pilgrim strangely mesmerizing paralleled scene grace humorous tender true point wished movie would drop whole romance angle focus grace nevertheless redford obviously romantic heart brings light touch erotic moment film dramatic sex scene moving scene scott thomas slow dancing always moving ever closer together far erotic scene sweaty body grinding together although movie longer essentially melodramatic tearjerker unsatisfying conclusion guarantee unhappiness every character enough moment like make horse whisperer worth price admission',\n",
       " 'let get one quickly possible possibility receive refund review would forthcoming godzilla without doubt loudest longest ultimately amateurishly written film ever released major studio producer dean devlin director roland emmerich ashamed penance forced return film school watch last year merienbad grasp idea content plot amount hype amount money hide fact filmmaker 90 equivalent william beaudine billy kid v dracula godzilla open stock footage bikini atoll nuclear test interspersed footage iguana playfully swimming nuzzling egg introduced crew japanese fish canning ship questionable enterprise considering tuna processing supposed supervised eliminate netting dolphin well ship attacked sunk unseen creature later group frenchman led philippe roache jean reno interview sole survivor state shock thing man utter word gojira japanese name famed beast introduced dr nick tatopoulos matthew broderick moniker obviously taken effect designer film currently studying effect chernobyl disaster local earthworm population immediately drafted u military taken panama shown huge footprint creature short amount time another fishing boat loaded canned tuna u korea reason found grounded jamaica well seems whatever eating ship headed new york beast finally appears tear one building stomp couple truck make life hell incumbent mayor ebert thumb new york military dr tatopoulos help two ton fresh fish dumped middle new york lure beast hiding place new york subway system finally come crashing city street cute face face dr tatopoulos snap beast picture monster eats fish military start shooting chase army causing 90 ensuing damage working hunch godzilla decided come big apple dr totopoulos buy home pregnancy kit local drugstore chosen remain open even though new york evacuated well test prof monster hermaphrodite pregnant needle say one belief good doctor discovery must join renegade french secret service agent find monster nesting site destroy egg mayor start letting populous back city even though monster dead yet sincerely hope completely spoiled interest anyone might seeing film gave away relevant plot could spare courageous foolish enough drop hour wage tripe everything godzilla reek almost bad pile rotting fish used trap beast script let clear devlin emmerich full plot hole non character sure recipient next year razzie award dialogue maria pitillo audrey timmonds dr tatopoulos estranged girlfriend mr broderick adolescent make teenager giggle disbelief happened screening witnessed film could enjoyably campy take damn seriously end commentary humanity foible nature reference godzilla sort retaliation mankind godzilla big dummy got knocked french immigrant decided let state new york pay film bleak ugly looking taking place night rain storm movie little depth everything ugly dark new york never looked inhospitable since death wish attempt give film color audrey timmonds carry bright red umbrella unique everyone else film carry standard gray issue moment composition color brief scene jamaica dr tatopoulos find standing giant footprint scene nicely photographed poorly set know outset nick standing footprint scientist poor observation let look interesting plot hole film activity becoming almost popular kevin bacon game 1 french nuclear test affect one clutch iguana egg egg fuse one beast 2 would cold blooded creature choose cold climate new york nest think iguana habit migrating 3 godzilla crawl new york subway system slice submarine half yet unable extricate thin comparison steel cable brooklyn bridge 4 brooklyn bridge suspension bridge existence need suspension cable 5 godzilla carry two hundred egg belly radioactive mutation surely wondrous creature note egg 10 foot tall almost wide godzilla would 1 000 foot tall carry 6 godzilla crush ship eat helicopter new york cab made stronger steel 7 godzilla maneuver helicopter bullet torpedo missile catch foot 8 taxi maneuver godzilla 9 godzilla burrow subway system tear park avenue tunnel 10 nothing else mutated nuclear test quickly godzilla maybe giant hermit crab sequel 11 galapagos iguana actually live french polynesian island 12 dr tatopoulos brought military going listen anyway 13 evacuate new york island le day convince new yorkers go new jersey 14 new york television station use vhs tape filming broadcasting new yorkers hate beta cam could go would serve make film seem enjoyable fooled film le gray matter episode america funniest home video performance film singularly bland one performance belay awe fear face two hundred foot tall terror character midst onslaught time stop discus lack good coffee failed relationship career choice common occurrence take place one character bowel movement would made believable godzilla part okay design beast funky memorable one thing come mind -- major redirection godzilla film remove familiar trademark namely atomic breath one quite fathom call monster godzilla without little trait good comparison would make superman film eliminate ability fly much wrong film really recall anything recently left cold hearted except divorce film two ton lizard slipping gum ball got envisioned influence prozac addition baby raptor ah meant godzillas nothing direct rip jurassic park none film suspense tension suffice say godzilla without doubt brain dead motion picture decade film needed hype current level writing directing nothing else film succeeds seen trailer seen best part suggestion mr mr e could always go back selling shoe film could next rocky horror funny']"
      ]
     },
     "execution_count": 581,
     "metadata": {},
     "output_type": "execute_result"
    }
   ],
   "source": [
    "train_rev = list(train_rev)  # Converting the pd Series in list datatype\n",
    "test_rev = list(test_rev)\n",
    "\n",
    "test_sents = list(test_sents)\n",
    "\n",
    "train_sents = list(train_sents)\n",
    "train_sents[:2]"
   ]
  },
  {
   "cell_type": "code",
   "execution_count": 582,
   "metadata": {},
   "outputs": [
    {
     "data": {
      "text/plain": [
       "['verdict spine chilling drama horror maestro stephen king featuring outstanding oscar winning performance kathy bates geez french saunders field day set work parodying sorry non british reader may familiar french saunders apology pair british comedienne jennifer saunders later went become edina monsoon absolutely fabulous series film spoof year back including alien exorcist misery needle say amidst chucklesome impersonation kathy bates resemblance quite uncanny dawn french got pretty nasty sledgehammer reach jennifer saunder leg despite lingering memory sketch although seen film couple time hobbling scene le disturbing still left screaming telly revulsion may memorable scene certainly worth watching stephen king whose film tv adaptation tend vary quality strike gold simple yet strikingly compelling tale nicely crafted psychological horror effortlessly succeeds drawing plight writer phil sheldon james caan rescued car accident annie wilkes bates introduces writer number one fan soon becomes prisoner script kathy bates beautifully masterful performance oscar work arm arm quickly begin realise beyond bubbly exterior woman basically nutty fruit cake fruity nut cake bates relish demanding role performance nothing short masterpiece time seems like innocent victim obsessive behaviour time rather tragic character often damned scary basically simple tale achieves large degree eloquence simplicity involving engrossing experience considering basically two hander mainly set one locale remarkable piece cinema jazzy special effect cheesy action sequence one relies solely upon rob reiner stylish directing wonderful performance bates caan oh really mentioned caan yet good job writer prisoner success annie obsessed book doubt gathered bates well truly star show along pig course anyway tension built masterful aplomb scene almost agonisingly tense dinner scene seldon go nerve shattering length poison wine succeeds knock glass bet threw pillow screen well immortal word homer j simpson oh nerve wracking scene include bit annie gone town sheldon start snooping around house cut annie car way home realises try get back room cut car getting near make ok sequence exactly original perhaps unpredictable work boy work film edge couch biting nail shouting screen suspense something right course nauseating sequence aforementioned hobbling annie realises captive room going stop cue block wood placed strategically ankle huge sledgehammer feel ill thinking nasty build nicely final scene sheldon finally get upper hand try kill crazy psycho given one ridiculously top fight scene ever seen get hit head typewriter set fire head smashed wall die sheldon terribly good shape either gorey would almost laughable terrifically effective film therefore daft climax easily overlooked misery tight tense intense chillingly entertaining thriller directing first rate performance bates particular contribute making suitably nightmarish little gem wonderful stuff regularly updated film tv review check site http // www geocities com hollywood bungalow 4960',\n",
       " '44 caliber killer struck starring john leguizamo mira sorvino adrian brody jennifer esposito michael rispoli bebe neuwirth rated r summer sam remembered waste spike lee ability lee great filmmaker often exhibiting kinetic visual flair par brian depalma martin scorsese storytelling ability comparable steven spielberg get bind latest effort case director pretending something say reality little substance absorb work summer 1977 unusual summer new york city hottest summer record boot new york first serial killer loose calling son sam david berkowitz killed 9 people new york area frightened whole city population understandable nyc hit citywide blackout people went berserk causing billion dollar damage city movie focus group twenty somethings fateful summer vinny john leguizamo club hopping adultrous hairdresser benevolent wife dionna mira sorvino looking young ritchie adrian brody punk becomes outcast well son sam suspect gang small time mobster minor character follow roller coaster life thrown whack even recent killing vinny dionna marital problem vinny cheat dionna try please make stay faithful ritchie get shunned group friend started become eccentric degenerated point dancing gay night club making porno film girlfriend tension build conflict arise anniversary night son sam first murder loom night promise strike local gang much time hand make list detailing people member think might suspect top list ritchie vinny unwilling part said group called upon set trap friend watch proceeding painfully graphic dreaded question spring mind way movie made guessed spike lee trying tell u something searched deeper became clear little find lee touch much -- medium 70 punk scene detail actual killing well character personal dilemma -- bring topic together form coherent theme make discernible statement lost movie turn hollow saving grace film enjoyable bad summer sam get help frankly bore redundant repetitive two hour twenty minute film entertain beyond first half hour suspense film refuse fully murder little involving drama film muddled focus vague leguizamo turn vinnie annoying whiny script make clear supposed believe character flawed still good guy never guess performance adrian brody especially mira sorvino fare better sorvino give riveting touching performance banal movie tempted think liked nearly everything else around inane character affecting emotion true heart brody paint effective portrait young guy desperate attention get little bargained summer sam superficial element good film look great notable performance suppose pretty well directed purely technical way also empty pretentious boring like last year thin red line movie director know want say go ahead say anyway 1999 eugene novikov &# 137']"
      ]
     },
     "execution_count": 582,
     "metadata": {},
     "output_type": "execute_result"
    }
   ],
   "source": [
    "test_sents[:2]"
   ]
  },
  {
   "cell_type": "markdown",
   "metadata": {},
   "source": [
    "# Getting the POS Tags from our POS Tagger"
   ]
  },
  {
   "cell_type": "markdown",
   "metadata": {},
   "source": [
    "Getting the probabiliy values from json files"
   ]
  },
  {
   "cell_type": "code",
   "execution_count": 583,
   "metadata": {},
   "outputs": [],
   "source": [
    "import json\n",
    "\n",
    "with open('transition_prob.json','r') as json_file:\n",
    "    transition_prob = json.load(json_file)\n",
    "    \n",
    "with open('emission_prob.json','r') as json_file:\n",
    "    emission_prob = json.load(json_file)\n",
    "\n",
    "with open('start_prob.json','r') as json_file:\n",
    "    start_prob = json.load(json_file)"
   ]
  },
  {
   "cell_type": "code",
   "execution_count": 584,
   "metadata": {},
   "outputs": [],
   "source": [
    "# Define the Viterbi algorithm for POS tagging\n",
    "def viterbi(sentence, tags, transition_prob, emission_prob, start_prob):\n",
    "    \n",
    "    sentence = nltk.word_tokenize(sentence)\n",
    "    V = [{}]  # Initialize the Viterbi matrix\n",
    "    path = {}  # Store the best path\n",
    "    \n",
    "    # Initialization step: calculate probabilities for the first word\n",
    "    for tag in tags:\n",
    "        if sentence[0] not in emission_prob[tag]:\n",
    "            emission_prob[tag][sentence[0]] = 1\n",
    "        V[0][tag] = start_prob[tag] * emission_prob[tag][sentence[0]]\n",
    "        path[tag] = tag\n",
    "    \n",
    "    # Base case for sentences with only one word\n",
    "    if len(sentence) == 1:\n",
    "        prob, tag = max((V[len(sentence) - 1][tag], tag) for tag in tags)\n",
    "        return (path[tag], prob)\n",
    "    \n",
    "    # Recursion step: fill in the Viterbi matrix for the rest of the sentence\n",
    "    for t in range(1, len(sentence)):\n",
    "        V.append({tag: 0 for tag in tags})\n",
    "        newpath = {}\n",
    "        \n",
    "        for tag in tags:\n",
    "            if sentence[t] not in emission_prob[tag]:\n",
    "                emission_prob[tag][sentence[t]] = 1\n",
    "            # Find the best previous tag and its probability\n",
    "            (prob1, state) = max((V[t-1][prev] * transition_prob[prev][tag] * emission_prob[tag][sentence[t]], prev) for prev in tags)\n",
    "            V[t][tag] = prob1  # Update the probability in the Viterbi matrix\n",
    "            newpath[tag] = path[state] + \" \" + tag  # Update the best path\n",
    "        \n",
    "        # Normalize probabilities to prevent underflow\n",
    "        for tag in tags:\n",
    "            if all(value < 1e-5 or value == 0 for value in V[t].values()):\n",
    "                V[t] = {k: v * 1000 for k, v in V[t].items()}\n",
    "\n",
    "        path = newpath  # Update the best path\n",
    "    \n",
    "    # Termination step: find the best tag for the last word\n",
    "    prob, tag = max((V[len(sentence) - 1][tag], tag) for tag in tags)\n",
    "    path_list = path[tag].split()  # Convert the best path to a list of tags\n",
    "    return path_list\n"
   ]
  },
  {
   "cell_type": "code",
   "execution_count": 585,
   "metadata": {},
   "outputs": [],
   "source": [
    "tags = set(transition_prob.keys())\n",
    "pos_tags = []\n",
    "\n",
    "for train_sent in train_sents:\n",
    "    pos_tag = viterbi(train_sent,tags,transition_prob,emission_prob,start_prob)  #Creating list of pos tags of training sentences\n",
    "    pos_tags.append(pos_tag)\n",
    "\n",
    "\n",
    "pos_tags1 = []\n",
    "\n",
    "for test_sent in test_sents:\n",
    "    pos_tag = viterbi(test_sent,tags,transition_prob,emission_prob,start_prob)  #Creating list of pos tags of test sentences\n",
    "    pos_tags1.append(pos_tag)"
   ]
  },
  {
   "cell_type": "code",
   "execution_count": 586,
   "metadata": {},
   "outputs": [
    {
     "data": {
      "text/plain": [
       "['robertnoun redfordadp goodadj playingnoun characternoun incredibleadj godnoun givenverb giftdet ableadj actnoun likeadp ordinaryadj peoplenoun naturaladj 1984noun playedverb fallenverb angelicadj characternoun roynoun hobbsadp baseballnoun playernoun destinedverb bestadv everadv stilladv actedverb likeadp humbleadj farmnoun boynoun butchadp cassidydet sundanceadj kidnoun 1969adp dangerousadj shotnoun westnoun yetadv cameverb likeadp nothingnoun boyishlyadp goodadj lookingverb charmeradv evenadv indecentadj proposalnoun 1993prt playedverb mannoun goodadj makingnoun moneynoun believedverb couldverb buyverb lovenoun redford. stilladv ableadj exudenoun auraadp shyadj decencynoun especiallyadv recitingadj talenoun lostverb loveverb latestadj filmnoun horsenoun whisperer. basedverb bestadj sellingnoun novelnoun nicholasnoun evansnoun redfordadp playnoun characternoun redford. alsoadv directedverb filmnoun althoughadp sworepron wouldverb neveradv directadj movienoun supposeverb characternoun tomnoun bookernoun mannoun amazingadj giftnoun understandingverb somehowadv communicatingverb horsenoun goodadj pasnoun despiteadp enormousadj rareadj giftnoun comeverb trainingverb troubledadj horsenoun magazinenoun articlenoun coinnoun phrasenoun horsenoun whisperer. describeverb uncannyadj talentnoun bookernoun seeverb everydayadj cattlenoun rancheradp whosedet greatestadj fearnoun growingverb oldadj longeradj purposenoun lifenoun bookernoun talentnoun taxedverb servicenoun annieadp macleandet kristinadj scottnoun thomasnoun newadj yorknoun magazinenoun editornoun whosedet daughternoun gracenoun scarlett. johanssonverb recentlyadv horribleadj accidentnoun accidentnoun filmedverb gutdet wrenchingadj horrornoun happensverb gracedet bestadj friendnoun ridingverb horsenoun eighteennum wheelernoun killverb gracenoun friendnoun severelyadv woundverb traumatizesdet gracenoun horsenoun pilgrimnoun causenoun gracenoun loseverb partnoun rightnoun legnoun annieadp beliefnoun pilgrimadp healeddet gracenoun healedverb welladv leadverb bookeradv firstadv tryverb getverb bookerprt comeverb newadj yorknoun seeverb horsenoun workverb insteadadv packverb gracenoun pilgrimnoun leafnoun husbandnoun robertnoun samnoun neillnoun behindadp headnoun rollingverb hillnoun montananoun bookernoun runverb ranchnoun brothernoun franknoun chrisnoun coopernoun sisternoun lawnoun dianenoun dianneadp wiestdet manyadj waynoun filmnoun likeadp journeynoun literallyadv symbolicallyadv moveverb westnoun alwaysadv greatadj americanadj traditionnoun renewalnoun hardadv seeverb anniedet gracenoun leavingverb manhattannoun montananoun variationnoun classicadj themenoun citynoun vnoun countrynoun horsenoun whispereradp countrynoun clearlyadv victoradj citynoun characterizedverb claustrophobiadet unhappinessnoun characternoun arriveverb wideadj openadj spacenoun montananoun gracenoun angernoun physicallyadv emotionallyadv crippledverb beginverb dissipateverb annieprt controllingverb naturenoun beginverb relaxverb pilgrimprt learnsverb trustnoun peoplenoun redfordprt loveverb grandadj montananoun countrynoun filmnoun directedverb rivernoun runverb sixnum yearnoun agoadv manyadj waynoun horsenoun whisperer. comeverb poeticadj veinnoun rivernoun movienoun couldverb probablyadv goodadj fifteennum minutenoun shorteradj redfordnoun decidedverb spendverb ledet cameranoun timenoun grassnoun mountainnoun wouldverb ruinverb magicadj muchadj filmnoun photographynoun trulyadv elegantpron createsverb palpableadj sensenoun sheeradj expansivenessnoun landnoun emphasizeverb redfordadp cinematographerdet robertnoun richardsonadp naturaladj bornverb killernoun platoonnoun cheatedverb bitnoun shootingverb beginningverb filmnoun takeverb placeverb newadj yorknoun mostlyadv coldadj harshadj bluishadj filternoun squarish. 1num 85num 1num aspectnoun rationoun actionnoun shiftnoun montananoun richardsonnoun switchverb softadj focusnoun naturaladj lightingnoun screennoun widens. 2num 35num 1num aspectnoun rationoun termnoun storynoun horsenoun whisperer. giveverb unoun romanticizedadp viewnoun adulterynoun foundverb davidnoun leanverb briefadj encounternoun 1945num clintnoun eastwood. 1995num adaptationnoun robertnoun jamesnoun walleradp bridgenoun madisonnoun countynoun richardnoun lagraveneseadp conoun screenwriter. alsoadv adaptedverb bridgenoun althoughadp horsenoun whispereradp strongadj romanticadj sensibilitynoun stilladv findverb somethingnoun oddlyadv troublingadj kindnoun storynoun seemsverb sympathynoun husbandnoun leftverb behindadp briefadj heartnoun sweepingverb affairnoun rarelyadv horsenoun whispereradp thanklessdet rolenoun fuddyadp duddydet husbandnoun fallnoun samnoun neilladp playnoun characternoun decent. hardadv workingverb mannoun goodadj husbandnoun fathernoun failurenoun lovenoun wifenoun lovenoun risknoun losingverb annieadp bookerdet anythingnoun driveverb awayadv simplyadv happensverb normaladj fairlyadv uninspiringadj mannoun onenum scenenoun particularlyadv tellingverb movienoun feelverb characternoun showverb bookerdet robertnoun goingverb horsenoun pennoun bookernoun dressedverb likeadp classicadj cowboynoun hatnoun robertnoun lookverb somewhatadv frumpyadj placenoun baseballnoun capnoun enterverb pennoun bookeradp assuredlydet swingnoun fencenoun robertnoun hesitatesadp openadj gatenoun goofyadp momentnoun forgets. closeadv behindadp smalladj scenenoun clearlyadv demonstratesverb moviedet thoroughadj lovenoun bookernoun characternoun romanticadj roughnessnoun bookernoun representsverb everythingnoun goodadj citynoun robertnoun representsverb everythingnoun banaladp unnaturaldet bestadj scenenoun horsenoun whisperer. tendverb involveverb buildingnoun romancenoun bookernoun annienoun ratheradp healingdet processnoun gracenoun horsenoun althoughadp bookerdet horsenoun trainingnoun methodnoun mythicaladp unrealisticadj scenenoun pilgrim. strangelyadv mesmerizingadp paralleleddet scenenoun gracenoun humorousadj tendernoun trueadj pointnoun wishedverb movienoun wouldverb dropverb wholeadj romancenoun anglenoun focusnoun gracenoun neverthelessadv redfordverb obviouslyadv romanticadj heartnoun bringsverb lightnoun touchverb eroticadj momentnoun filmnoun dramaticadj sexnoun scenenoun movingverb scenenoun scottnoun thomasnoun slowverb dancingverb alwaysadv movingverb everadv closeradv togetheradv faradv eroticadj scenenoun sweatyadj bodynoun grindingverb togetheradv althoughadp movienoun longeradv essentiallyadv melodramaticadj tearjerkernoun unsatisfyingadp conclusionnoun guaranteenoun unhappinessadp everydet characternoun enoughadj momentnoun likeadp makeverb horsenoun whispereradp worthadj pricenoun admissionnoun',\n",
       " 'letverb getverb onenum quicklyadv possibleadj possibilitynoun receiveverb refundnoun reviewnoun wouldverb forthcomingadj godzillanoun withoutadp doubtnoun loudest. longestconj ultimatelyadv amateurishlyverb writtenverb filmnoun everadv releasedverb majoradj studionoun producernoun deannoun devlinadp directornoun rolandadp emmerichdet ashamedadj penancenoun forcedverb returnnoun filmnoun schoolnoun watchverb lastadj yearnoun merienbadadp graspdet ideanoun contentnoun plotnoun amountnoun hypeadp amountnoun moneynoun hideverb factnoun filmmaker. 90num equivalentadj williamnoun beaudineadp billynoun kidnoun vnoun draculaadp godzilladet openadj stocknoun footagenoun bikiniadp atolldet nuclearadj testnoun interspersedadp footagedet iguanaadj playfullynoun swimmingverb nuzzlingdet eggnoun introducedverb crewdet japaneseadj fishnoun canningverb shipverb questionableadj enterprisenoun consideringadp tunadet processingnoun supposedverb supervisedverb eliminateverb nettingprt dolphinverb welladv shipverb attackedverb sunkverb unseenadj creaturenoun lateradj groupnoun frenchmannoun ledverb philippeadp roachedet jeannoun renonoun interviewnoun soleadj survivornoun statenoun shocknoun thingnoun mannoun utteradj wordnoun gojiraadp japaneseadj namenoun famedadj beastnoun introducedverb drdet nicknoun tatopoulosadp matthewnoun broderick. monikerconj obviouslyadv takenverb effectnoun designernoun filmnoun currentlyadv studyingverb effectnoun chernobyladp disasternoun localadj earthwormnoun populationnoun immediatelyadv draftedverb unoun militarynoun takenverb panamanoun shownverb hugeadj footprintnoun creaturenoun shortadj amountnoun timenoun anotherdet fishingnoun boatnoun loadedverb cannedverb tunadet unoun koreanoun reasonnoun foundverb groundedverb jamaicaadv welladv seemsverb whateverdet eatingadj shipnoun headedverb newadj yorknoun beastnoun finallyadv appearsverb tearverb onenum buildingnoun stompadp couplenoun trucknoun makeverb lifenoun hellnoun incumbentadj mayornoun ebertadp thumbdet newadj yorknoun militaryadj drnoun tatopoulos. helpverb twonum tonnoun freshadj fishnoun dumpedverb middleadj newadj yorknoun lureverb beastprt hidingverb placeverb newadj yorknoun subwaynoun systemnoun finallyadv comeverb crashingverb citynoun streetnoun cuteadj facenoun facenoun dradp tatopoulosdet snapadj beastnoun picturenoun monsternoun eatsadp fishdet militaryadj startnoun shootingverb chasenoun armynoun causingverb 90num ensuingnum damagenoun workingverb hunchdet godzillanoun decidedverb comeverb bigadj applenoun dr. totopoulospron buyverb homenoun pregnancyadp kitdet localadj drugstorenoun chosenverb remainverb openverb evenadv thoughadp newadj yorknoun evacuatedverb welladv testverb profdet monsternoun hermaphroditeadp pregnantadj needlenoun sayverb onenum beliefnoun goodadj doctornoun discoverynoun mustverb joinverb renegadedet frenchadj secretadj servicenoun agentnoun findverb monsteradp nestingdet sitenoun destroyverb eggnoun mayornoun startverb lettingverb populousadj backnoun citynoun evenadv thoughadp monsterdet deadadj yetconj sincerelyadv hopeverb completelyadv spoiledverb interestnoun anyonenoun mightverb seeingverb filmnoun gaveverb awayadv relevantadj plotnoun couldverb spareverb courageousdet foolishadj enoughadj dropnoun hournoun wagenoun tripeadp everythingnoun godzilla. reekverb almostadv badadj pilenoun rottingadp fishnoun usedverb trapnoun beastnoun scriptnoun letverb clearadj devlinnoun emmerichadp fulladj plotnoun holenoun nonadp characternoun sureadj recipientnoun nextadj yearnoun razzieadp awardnoun dialoguenoun marianoun pitilloadp audreydet timmondsnoun dradp tatopoulosdet estrangedadj girlfriendnoun mradp broderickdet adolescentnoun makeverb teenageradp giggledet disbeliefnoun happenedverb screeningprt witnessedverb filmnoun couldverb enjoyablydet campynoun takeverb damnverb seriouslyadv endnoun commentarynoun humanitynoun foibleadp naturenoun referencenoun godzillaadp sortnoun retaliationnoun mankindnoun godzillaadp bigadj dummynoun gotverb knockedverb frenchadj immigrantnoun decidedverb letverb statenoun newadj yorknoun payverb filmnoun bleak. uglypron lookingverb takingverb placenoun nightnoun rainnoun stormnoun movienoun littleadj depthnoun everythingnoun uglyadj darkadj newadj yorknoun neveradv lookedverb inhospitableadv sinceadp deathnoun wishverb attemptnoun giveverb filmnoun colornoun audrey. timmondspron carryverb brightadj redadj umbrellanoun uniqueadj everyonenoun elseadv filmnoun carryverb standardadj grayadj issuenoun momentnoun compositionnoun colornoun briefadj scenenoun jamaicaadp drdet tatopoulosnoun findverb standingverb giantadj footprintnoun scenenoun nicelyadv photographedverb poorlyadv setverb knowverb outsetnoun nicknoun standingverb footprintdet scientistnoun pooradj observationnoun letverb lookverb interestingadj plotnoun holenoun filmnoun activitynoun becomingverb almostadv popularadj kevinnoun baconnoun gamenoun 1num frenchadj nuclearadj testnoun affectverb onenum clutchnoun iguanaadp eggnoun eggnoun fuse. onenum beastnum 2num wouldverb coldadj bloodednoun creaturenoun chooseverb coldadj climatenoun newadj yorknoun nestnoun thinkverb iguanadet habitnoun migrating. 3num godzillanoun crawlverb newadj yorknoun subwaynoun systemnoun slicenoun submarinenoun halfprt yetadv unableadj extricateconj thinadj comparisonnoun steelnoun cablenoun brooklynnoun bridgenoun 4num brooklynnoun bridgenoun suspensionnoun bridgenoun existencenoun needverb suspensionnoun cablenoun 5num godzillanoun carryverb twonum hundrednum eggnoun bellynoun radioactiveprt mutationverb surelyadv wondrousadj creaturenoun notenoun eggnoun 10num footnoun tall. almostadv wideadj godzillanoun wouldverb 1num 000noun footnoun tallprt carryverb 6num godzillanoun crushnoun shipnoun eatverb helicopterdet newadj yorknoun cabnoun madeverb strongeradj steelnoun 7num godzillanoun maneuveradp helicopterdet bulletnoun torpedoadp missilenoun catchverb footnoun 8num taxinoun maneuvernoun godzilla. 9num godzillaadp burrowdet subwaynoun systemnoun tearverb parknoun avenuenoun tunnel. 10num nothingnoun elseadv mutateddet nuclearadj testnoun quicklyadv godzillaverb maybeadv giantadj hermitnoun crab. sequelnum 11num galapagosnoun iguana. actuallyadv liveverb frenchadj polynesiannoun islandnoun 12num drnoun tatopoulos. broughtverb militaryadj goingverb listenverb anywayadv 13num evacuatenum newadj yorknoun islandnoun lenoun daynoun convinceverb newadj yorkersnoun goverb newadj jerseynoun 14num newadj yorknoun televisionnoun stationnoun useverb vhsdet tapenoun filmingadp broadcastingdet newadj yorkersnoun hateverb betanoun camprt couldverb goverb wouldverb serveverb makeverb filmnoun seemverb enjoyableadp fooleddet filmnoun leadp grayadj matternoun episodenoun americanoun funniestadp homenoun videonoun performancenoun filmnoun singularly. blandnum onenum performancenoun belayadp awedet fearnoun facenoun twonum hundrednum footnoun talladj terrornoun characternoun midstnoun onslaughtnoun timenoun stopverb discusdet lacknoun goodadj coffeenoun failedverb relationshipnoun careernoun choicenoun commonadj occurrencenoun takeverb placenoun onenum characternoun boweladp movementnoun wouldverb madeverb believableadp godzilladet partnoun okayprt designnoun beastadp funkydet memorableadj onenoun thingnoun comeverb mindnoun --. majoradj redirectionnoun godzillaadp filmnoun removeverb familiaradj trademarknoun namelyadv atomicadj breathnoun onenoun quiteadv fathomverb callverb monsterdet godzillanoun withoutadp littleadj traitnoun goodadj comparisonnoun wouldverb makeverb supermandet filmnoun eliminateverb abilitynoun flyverb muchadv wrongadj filmnoun reallyadv recallverb anythingnoun recentlyadv leftverb coldadj heartednoun exceptadp divorcenoun filmnoun twonum tonnoun lizardadp slippingdet gumnoun ballnoun gotverb envisionedverb influencenoun prozacadp additionnoun babynoun raptor. ahpron meantverb godzillasdet nothingnoun directverb ripverb jurassicdet parknoun nonenoun filmnoun suspensenoun tensionnoun sufficeverb sayverb godzillaverb withoutadp doubtnoun brainnoun deadadj motionnoun picturenoun decadenoun filmnoun neededverb hypedet currentadj levelnoun writingverb directingverb nothingnoun elseadv filmnoun succeedsverb seenverb trailernoun seenverb bestadj partnoun suggestionnoun mradp mrdet enoun couldverb alwaysadv goverb backadv sellingverb shoenoun filmnoun couldverb nextadj rockyadj horrornoun funnyadj']"
      ]
     },
     "execution_count": 586,
     "metadata": {},
     "output_type": "execute_result"
    }
   ],
   "source": [
    "# Joining sentences and pos tags for training data\n",
    "tokens = [train_sent.split() for train_sent in train_sents]\n",
    "tokens = [[word + tag.lower()  for word,tag in zip(train_sent,pos_tag)] for train_sent,pos_tag in zip(tokens,pos_tags)]\n",
    "\n",
    "train_sents = [' '.join(token) for token in tokens]\n",
    "train_sents[:2]"
   ]
  },
  {
   "cell_type": "code",
   "execution_count": 587,
   "metadata": {},
   "outputs": [
    {
     "data": {
      "text/plain": [
       "['verdictnoun spinenoun chillingverb dramanoun horrornoun maestronoun stephennoun kingnoun featuringverb outstandingadj oscarnoun winningverb performancenoun kathynoun batesadp geezdet frenchadj saundersnoun fieldnoun daynoun setverb workverb parodyingdet sorryadj nonadj britishadj readernoun mayverb familiaradj frenchadj saundersnoun apologynoun pairnoun britishnoun comedienne. jenniferpron saundersverb lateradv wentverb becomeverb edinadet monsoonnoun absolutelyadv fabulousadj seriesnoun filmnoun spoofadp yearnoun backadv includingadp alienadj exorcistnoun miserynoun needlenoun sayverb amidstadp chucklesomedet impersonationadj kathynoun batesnoun resemblancenoun quiteadv uncannyadj dawnnoun frenchnoun gotverb prettyadv nastyadj sledgehammernoun reachverb jenniferadp saunderdet legnoun despiteadp lingeringdet memorynoun sketchnoun althoughadp seenverb filmnoun couplenoun timenoun hobblingadp scenenoun lenoun disturbingverb stilladv leftverb screamingverb tellydet revulsionnoun mayverb memorableadj scenenoun certainlyadv worthadj watchingnoun stephennoun kingnoun whosedet filmnoun tvnoun adaptationnoun tendverb varyverb qualitynoun strikenoun goldnoun simpleadj yetconj strikinglyadv compellingadj talenoun nicelyadp crafteddet psychologicaladj horrornoun effortlesslyprt succeedsverb drawingverb plightnoun writernoun philnoun sheldonnoun jamesnoun caanadp rescueddet carnoun accidentnoun annieadp wilkesdet batesnoun introducesverb writernoun numbernoun onenum fannoun soonadv becomesverb prisonernoun scriptnoun kathynoun batesnoun beautifullyadv masterfuladj performancenoun oscarnoun worknoun armnoun armnoun quicklyadv beginverb realiseverb beyondadp bubblydet exterioradj womannoun basicallyadv nuttyadj fruitnoun cakenoun fruityadp nutnoun cakenoun batesnoun relishnoun demandingverb rolenoun performancenoun nothingnoun shortadj masterpiecenoun timenoun seemsverb likeadp innocentadj victimnoun obsessiveadp behaviourdet timenoun ratheradp tragicadj characternoun oftenadv damnedverb scaryadv basicallyadv simpleadj talenoun achievesverb largeadj degreenoun eloquenceadp simplicitynoun involvingverb engrossingadj experiencenoun consideringverb basicallyadv twonum hander. mainlyadv setverb onenum localenum remarkableadj piecenoun cinemaadp jazzydet specialadj effectnoun cheesyadp actionnoun sequencenoun onenoun reliesverb solelyadv uponadp robnoun reiner. stylishpron directingverb wonderfuladj performancenoun batesnoun caanverb ohprt reallyadv mentionedverb caanverb yetadv goodadj jobnoun writernoun prisonernoun successnoun annieadp obsesseddet booknoun doubtnoun gatheredverb batesadv welladv trulyadv starnoun showverb alongadp pigdet coursenoun anywayadv tensionnoun builtverb masterfuladp aplombdet scenenoun almostadv agonisinglydet tenseadj dinnernoun scenenoun seldon. goverb nervenoun shatteringverb lengthnoun poisonnoun winenoun succeedsverb knockverb glassnoun betverb threwverb pillowdet screennoun welladv immortaladj wordnoun homernoun jnoun simpsonnoun ohprt nerveverb wrackingdet scenenoun includeverb bitnoun annieprt goneverb townnoun sheldonnoun startverb snoopingverb aroundadp housenoun cutverb anniedet carnoun waynoun homenoun realises. tryverb getverb backadv roomnoun cutverb carnoun gettingverb nearadp makeverb okadj sequencenoun exactlyadv originaladj perhapsadv unpredictableadj worknoun boynoun worknoun filmnoun edgenoun couchnoun bitingverb nailprt shoutingverb screennoun suspensenoun somethingnoun rightnoun coursenoun nauseatingadp sequencenoun aforementionedadp hobblingdet annienoun realisesadp captiveadj roomnoun goingverb stopverb cuedet blocknoun woodnoun placedverb strategicallyadp ankledet hugeadj sledgehammernoun feelverb illadv thinkingverb nastyprt buildverb nicelyadv finaladj scenenoun sheldonnoun finallyadv getverb upperadj handnoun tryverb killverb crazyadj psychonoun givenverb onenum ridiculouslynum topadj fightnoun scenenoun everadv seenverb getverb hitverb headnoun typewriternoun setverb firenoun headnoun smashedverb wallnoun dieverb sheldonadv terriblyadv goodadj shapenoun eitherconj goreypron wouldverb almostadv laughableadp terrificallydet effectiveadj filmnoun thereforeadv daftadj climaxnoun easilyadv overlookedverb miserydet tightadj tenseadj intenseadj chillinglynoun entertainingverb thrillerpron directingverb firstadj ratenoun performancenoun batesnoun particularnoun contributeverb makingverb suitablyadv nightmarishadj littleadj gemnoun wonderfuladj stuffnoun regularlyadv updatedadj filmnoun tvnoun reviewnoun checkverb sitenoun httpadp //det wwwnoun geocitiesadp comdet hollywoodnoun bungalowadp 4960det',\n",
       " '44num calibernoun killernoun struckverb starringdet johnnoun leguizamoadp miradet sorvinoadj adriannoun brodyadp jenniferdet espositoadj michaelnoun rispoliadp bebedet neuwirthnoun ratedverb rnoun summernoun samnoun rememberedverb wasteverb spikedet leenoun abilitynoun leenoun greatadj filmmakernoun oftenadv exhibitingverb kineticadj visualadj flairnoun parnoun brianadp depalmadet martinnoun scorseseadp storytellingdet abilitynoun comparableadj stevennoun spielberg. getverb binddet latestadj effortnoun casenoun directornoun pretendingverb somethingnoun sayverb realitynoun littleadj substancenoun absorbverb worknoun summernoun 1977adp unusualadj summernoun newadj yorknoun citynoun hottestadj summernoun recordnoun bootverb newadj yorknoun firstadv serialadj killernoun looseadv callingverb sonnoun samnoun davidnoun berkowitz. killedverb 9num peoplenoun newadj yorknoun areanoun frightenedverb wholeadj citynoun populationnoun understandableadj nycnoun hitverb citywideadj blackoutnoun peoplenoun wentverb berserkpron causingverb billionnum dollarnoun damagenoun citynoun movienoun focusnoun groupnoun twentyadp somethingsdet fatefuladj summernoun vinnyadp johnnoun leguizamoadp clubnoun hoppingverb adultrousadp hairdresserdet benevolentadj wifenoun dionnaadp miradet sorvinonoun lookingverb youngadj ritchienoun adrianadp brodydet punknoun becomesverb outcastadv welladv sonnoun samnoun suspectverb gangdet smalladj timenoun mobsteradp minoradj characternoun followverb rolleradp coasterdet lifenoun thrownverb whackverb evenadv recentadj killingnoun vinnyadp dionnadet maritaladj problemnoun vinnyadp cheatdet dionnanoun tryverb pleaseverb makeverb stayverb faithfuladj ritchienoun getverb shunneddet groupnoun friendnoun startedverb becomeverb eccentricadj degeneratednoun pointnoun dancingverb gayadj nightnoun clubnoun makingverb pornodet filmnoun girlfriendnoun tensionnoun buildverb conflictnoun ariseverb anniversarynoun nightnoun sonnoun samnoun firstadj murdernoun loomnoun nightnoun promisenoun strikeverb localadj gangnoun muchadj timenoun handnoun makeverb listnoun detailingadp peoplenoun membernoun thinkverb mightverb suspectverb topadj listnoun ritchieadp vinnydet unwillingadj partnoun saidverb groupnoun calledverb uponadp setnoun trapnoun friendnoun watchverb proceedingverb painfullyadv graphicadj dreadednoun questionnoun springnoun mindnoun waynoun movienoun madeverb guessedverb spikedet leenoun tryingverb tellverb unoun somethingnoun searchedverb deeperadv becameverb clearverb littleadv findverb leenoun touchverb muchadv --. mediumnoun 70num punknoun scenenoun detailnoun actualadj killingnoun welladv characternoun personaladj dilemmanoun --. bringverb topicnoun togetheradv formverb coherentadj themenoun makeverb discernibleadj statementnoun lostverb movienoun turnverb hollowadj savingnoun gracenoun filmnoun enjoyableadp badadj summernoun samnoun getverb helpverb franklyadv boreverb redundantadp repetitivenum twonum hournoun twentynum minutenoun filmnoun entertainverb beyondadp firstadj halfnoun hournoun suspensenoun filmnoun refuseverb fullyadv murderverb littleadv involvingverb dramanoun filmnoun muddled. focusverb vagueadj leguizamonoun turnverb vinniedet annoyingadj whinynoun scriptnoun makeverb clearverb supposedverb believeverb characternoun flawed. stilladv goodadj guynoun neveradv guessverb performancenoun adriannoun brody. especiallyadv miraadj sorvinonoun fareverb betteradj sorvinonoun giveverb rivetingdet touchingadj performancenoun banaladp movienoun temptedverb thinkverb likedverb nearlyadv everythingnoun elseadv aroundadp inanedet characternoun affectingverb emotiondet trueadj heartnoun brody. paintverb effectiveadj portraitnoun youngadj guynoun desperateadj attentionnoun getverb littleadj bargainednoun summernoun samnoun superficialadj elementnoun goodadj filmnoun lookverb greatadj notableadj performancenoun supposeverb prettyadv welladv directedverb purelyadv technicaladj waynoun alsoadv emptyadj pretentiousadj boringnoun likeadp lastadj yearnoun thinadj redadj linenoun movienoun directornoun knowverb wantverb sayverb goverb aheadadv sayverb anywayadv 1999num eugenenoun novikov. &#conj 137.']"
      ]
     },
     "execution_count": 587,
     "metadata": {},
     "output_type": "execute_result"
    }
   ],
   "source": [
    "# Joining sentences and pos tags for testing data\n",
    "tokens = [test_sent.split() for test_sent in test_sents]\n",
    "tokens = [[word + tag.lower()  for word,tag in zip(test_sent,pos_tag)] for test_sent,pos_tag in zip(tokens,pos_tags1)]\n",
    "\n",
    "test_sents = [' '.join(token) for token in tokens]\n",
    "test_sents[:2]"
   ]
  },
  {
   "cell_type": "markdown",
   "metadata": {},
   "source": [
    "# TF-IDF and BoW Feature Extraction"
   ]
  },
  {
   "cell_type": "code",
   "execution_count": 598,
   "metadata": {},
   "outputs": [
    {
     "data": {
      "text/html": [
       "<div>\n",
       "<style scoped>\n",
       "    .dataframe tbody tr th:only-of-type {\n",
       "        vertical-align: middle;\n",
       "    }\n",
       "\n",
       "    .dataframe tbody tr th {\n",
       "        vertical-align: top;\n",
       "    }\n",
       "\n",
       "    .dataframe thead th {\n",
       "        text-align: right;\n",
       "    }\n",
       "</style>\n",
       "<table border=\"1\" class=\"dataframe\">\n",
       "  <thead>\n",
       "    <tr style=\"text-align: right;\">\n",
       "      <th></th>\n",
       "      <th>000</th>\n",
       "      <th>0009fadp</th>\n",
       "      <th>000adp</th>\n",
       "      <th>000det</th>\n",
       "      <th>000noun</th>\n",
       "      <th>000num</th>\n",
       "      <th>000verb</th>\n",
       "      <th>007</th>\n",
       "      <th>007adp</th>\n",
       "      <th>007det</th>\n",
       "      <th>...</th>\n",
       "      <th>zundelpron</th>\n",
       "      <th>zurgadp</th>\n",
       "      <th>zweibeladp</th>\n",
       "      <th>zwick</th>\n",
       "      <th>zwickadp</th>\n",
       "      <th>zwickdet</th>\n",
       "      <th>zwicknoun</th>\n",
       "      <th>zwickverb</th>\n",
       "      <th>zwigoffadp</th>\n",
       "      <th>zyciedet</th>\n",
       "    </tr>\n",
       "  </thead>\n",
       "  <tbody>\n",
       "    <tr>\n",
       "      <th>0</th>\n",
       "      <td>0.0</td>\n",
       "      <td>0.0</td>\n",
       "      <td>0.0</td>\n",
       "      <td>0.0</td>\n",
       "      <td>0.000000</td>\n",
       "      <td>0.0</td>\n",
       "      <td>0.0</td>\n",
       "      <td>0.0</td>\n",
       "      <td>0.0</td>\n",
       "      <td>0.0</td>\n",
       "      <td>...</td>\n",
       "      <td>0.0</td>\n",
       "      <td>0.0</td>\n",
       "      <td>0.0</td>\n",
       "      <td>0.0</td>\n",
       "      <td>0.0</td>\n",
       "      <td>0.0</td>\n",
       "      <td>0.0</td>\n",
       "      <td>0.0</td>\n",
       "      <td>0.0</td>\n",
       "      <td>0.0</td>\n",
       "    </tr>\n",
       "    <tr>\n",
       "      <th>1</th>\n",
       "      <td>0.0</td>\n",
       "      <td>0.0</td>\n",
       "      <td>0.0</td>\n",
       "      <td>0.0</td>\n",
       "      <td>0.025607</td>\n",
       "      <td>0.0</td>\n",
       "      <td>0.0</td>\n",
       "      <td>0.0</td>\n",
       "      <td>0.0</td>\n",
       "      <td>0.0</td>\n",
       "      <td>...</td>\n",
       "      <td>0.0</td>\n",
       "      <td>0.0</td>\n",
       "      <td>0.0</td>\n",
       "      <td>0.0</td>\n",
       "      <td>0.0</td>\n",
       "      <td>0.0</td>\n",
       "      <td>0.0</td>\n",
       "      <td>0.0</td>\n",
       "      <td>0.0</td>\n",
       "      <td>0.0</td>\n",
       "    </tr>\n",
       "    <tr>\n",
       "      <th>2</th>\n",
       "      <td>0.0</td>\n",
       "      <td>0.0</td>\n",
       "      <td>0.0</td>\n",
       "      <td>0.0</td>\n",
       "      <td>0.000000</td>\n",
       "      <td>0.0</td>\n",
       "      <td>0.0</td>\n",
       "      <td>0.0</td>\n",
       "      <td>0.0</td>\n",
       "      <td>0.0</td>\n",
       "      <td>...</td>\n",
       "      <td>0.0</td>\n",
       "      <td>0.0</td>\n",
       "      <td>0.0</td>\n",
       "      <td>0.0</td>\n",
       "      <td>0.0</td>\n",
       "      <td>0.0</td>\n",
       "      <td>0.0</td>\n",
       "      <td>0.0</td>\n",
       "      <td>0.0</td>\n",
       "      <td>0.0</td>\n",
       "    </tr>\n",
       "    <tr>\n",
       "      <th>3</th>\n",
       "      <td>0.0</td>\n",
       "      <td>0.0</td>\n",
       "      <td>0.0</td>\n",
       "      <td>0.0</td>\n",
       "      <td>0.000000</td>\n",
       "      <td>0.0</td>\n",
       "      <td>0.0</td>\n",
       "      <td>0.0</td>\n",
       "      <td>0.0</td>\n",
       "      <td>0.0</td>\n",
       "      <td>...</td>\n",
       "      <td>0.0</td>\n",
       "      <td>0.0</td>\n",
       "      <td>0.0</td>\n",
       "      <td>0.0</td>\n",
       "      <td>0.0</td>\n",
       "      <td>0.0</td>\n",
       "      <td>0.0</td>\n",
       "      <td>0.0</td>\n",
       "      <td>0.0</td>\n",
       "      <td>0.0</td>\n",
       "    </tr>\n",
       "    <tr>\n",
       "      <th>4</th>\n",
       "      <td>0.0</td>\n",
       "      <td>0.0</td>\n",
       "      <td>0.0</td>\n",
       "      <td>0.0</td>\n",
       "      <td>0.037467</td>\n",
       "      <td>0.0</td>\n",
       "      <td>0.0</td>\n",
       "      <td>0.0</td>\n",
       "      <td>0.0</td>\n",
       "      <td>0.0</td>\n",
       "      <td>...</td>\n",
       "      <td>0.0</td>\n",
       "      <td>0.0</td>\n",
       "      <td>0.0</td>\n",
       "      <td>0.0</td>\n",
       "      <td>0.0</td>\n",
       "      <td>0.0</td>\n",
       "      <td>0.0</td>\n",
       "      <td>0.0</td>\n",
       "      <td>0.0</td>\n",
       "      <td>0.0</td>\n",
       "    </tr>\n",
       "  </tbody>\n",
       "</table>\n",
       "<p>5 rows × 60000 columns</p>\n",
       "</div>"
      ],
      "text/plain": [
       "   000  0009fadp  000adp  000det   000noun  000num  000verb  007  007adp  \\\n",
       "0  0.0       0.0     0.0     0.0  0.000000     0.0      0.0  0.0     0.0   \n",
       "1  0.0       0.0     0.0     0.0  0.025607     0.0      0.0  0.0     0.0   \n",
       "2  0.0       0.0     0.0     0.0  0.000000     0.0      0.0  0.0     0.0   \n",
       "3  0.0       0.0     0.0     0.0  0.000000     0.0      0.0  0.0     0.0   \n",
       "4  0.0       0.0     0.0     0.0  0.037467     0.0      0.0  0.0     0.0   \n",
       "\n",
       "   007det  ...  zundelpron  zurgadp  zweibeladp  zwick  zwickadp  zwickdet  \\\n",
       "0     0.0  ...         0.0      0.0         0.0    0.0       0.0       0.0   \n",
       "1     0.0  ...         0.0      0.0         0.0    0.0       0.0       0.0   \n",
       "2     0.0  ...         0.0      0.0         0.0    0.0       0.0       0.0   \n",
       "3     0.0  ...         0.0      0.0         0.0    0.0       0.0       0.0   \n",
       "4     0.0  ...         0.0      0.0         0.0    0.0       0.0       0.0   \n",
       "\n",
       "   zwicknoun  zwickverb  zwigoffadp  zyciedet  \n",
       "0        0.0        0.0         0.0       0.0  \n",
       "1        0.0        0.0         0.0       0.0  \n",
       "2        0.0        0.0         0.0       0.0  \n",
       "3        0.0        0.0         0.0       0.0  \n",
       "4        0.0        0.0         0.0       0.0  \n",
       "\n",
       "[5 rows x 60000 columns]"
      ]
     },
     "execution_count": 598,
     "metadata": {},
     "output_type": "execute_result"
    }
   ],
   "source": [
    "# vectorizer using Tfidf vectorizer\n",
    "vectorizer = TfidfVectorizer(max_features=60000)\n",
    "\n",
    "#Extracting features from the sentences\n",
    "features_tfidf_train = vectorizer.fit_transform(train_sents)\n",
    "features_tfidf_test = vectorizer.transform(test_sents)\n",
    "\n",
    "#Getting the vectors in a dataframe\n",
    "tfidf_df = pd.DataFrame(features_tfidf_train.toarray(),columns=vectorizer.get_feature_names_out())\n",
    "tfidf_df.head()"
   ]
  },
  {
   "cell_type": "code",
   "execution_count": 596,
   "metadata": {},
   "outputs": [],
   "source": [
    "tag_weights = {       #Weights given to each pos tag\n",
    "    'noun': 0.1,\n",
    "    'verb': 11,\n",
    "    'adj': 11,\n",
    "    'det': 1,\n",
    "    'num': 0,\n",
    "    '.': 0,\n",
    "    'x': 0,\n",
    "    'conj': 0,\n",
    "    'adp': 0,\n",
    "    'pron': 0\n",
    "}"
   ]
  },
  {
   "cell_type": "code",
   "execution_count": 597,
   "metadata": {},
   "outputs": [],
   "source": [
    "for col in tfidf_df.columns:\n",
    "    for tag in tag_weights:\n",
    "        if tag in col:\n",
    "            tfidf_df[col] *= tag_weights[tag]  # Multiplying the weights of the associated pos tags\n",
    "\n",
    "features_tfidf_train = tfidf_df.values"
   ]
  },
  {
   "cell_type": "code",
   "execution_count": 594,
   "metadata": {},
   "outputs": [
    {
     "name": "stdout",
     "output_type": "stream",
     "text": [
      "Accuracy: 0.795\n",
      "Classification Report:\n",
      "              precision    recall  f1-score   support\n",
      "\n",
      "         neg       0.77      0.83      0.80        99\n",
      "         pos       0.82      0.76      0.79       101\n",
      "\n",
      "    accuracy                           0.80       200\n",
      "   macro avg       0.80      0.80      0.79       200\n",
      "weighted avg       0.80      0.80      0.79       200\n",
      "\n"
     ]
    }
   ],
   "source": [
    "from sklearn.naive_bayes import MultinomialNB\n",
    "from sklearn.metrics import accuracy_score\n",
    "\n",
    "# Create a Multinomial Naive Bayes classifier\n",
    "nb_classifier = MultinomialNB()\n",
    "\n",
    "# Train the classifier\n",
    "nb_classifier.fit(features_tfidf_train, train_rev)  \n",
    "\n",
    "# Predict the labels\n",
    "rev_pred = nb_classifier.predict(features_tfidf_test)\n",
    "\n",
    "# Calculate accuracy\n",
    "accuracy = accuracy_score(test_rev, rev_pred)\n",
    "\n",
    "# Generate classification report\n",
    "report = classification_report(test_rev, rev_pred)\n",
    "\n",
    "# Print results\n",
    "print(f'Accuracy: {accuracy}')\n",
    "print(f'Classification Report:\\n{report}')\n",
    "\n"
   ]
  }
 ],
 "metadata": {
  "kernelspec": {
   "display_name": "Python 3 (ipykernel)",
   "language": "python",
   "name": "python3"
  },
  "language_info": {
   "codemirror_mode": {
    "name": "ipython",
    "version": 3
   },
   "file_extension": ".py",
   "mimetype": "text/x-python",
   "name": "python",
   "nbconvert_exporter": "python",
   "pygments_lexer": "ipython3",
   "version": "3.10.6"
  }
 },
 "nbformat": 4,
 "nbformat_minor": 2
}
